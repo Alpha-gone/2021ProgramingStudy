{
 "cells": [
  {
   "cell_type": "markdown",
   "metadata": {},
   "source": [
    "# 실습 7.9"
   ]
  },
  {
   "cell_type": "code",
   "execution_count": null,
   "metadata": {},
   "outputs": [],
   "source": [
    "alist = ['Kim', 'Park', 'Lee', 'Hong']\n",
    "\n",
    "blist = alist\n",
    "blist[1] = 'Choi'\n",
    "print(alist)\n",
    "print(id(alist))\n",
    "print(id(blist))"
   ]
  },
  {
   "cell_type": "code",
   "execution_count": null,
   "metadata": {},
   "outputs": [],
   "source": [
    "alist = ['Kim', 'Park', 'Lee', 'Hong']\n",
    "blist = list(alist)\n",
    "\n",
    "print(id(alist))\n",
    "print(id(blist))"
   ]
  },
  {
   "cell_type": "code",
   "execution_count": null,
   "metadata": {},
   "outputs": [],
   "source": [
    "alist = ['Kim', 'Park', 'Lee', 'Hong']\n",
    "blist = alist[:]\n",
    "print(id(alist))\n",
    "print(id(blist))\n",
    "\n",
    "blist[0] = 'Song'\n",
    "print(alist)\n",
    "print(blist)"
   ]
  },
  {
   "cell_type": "markdown",
   "metadata": {},
   "source": [
    "# 실습 7.12\n"
   ]
  },
  {
   "cell_type": "code",
   "execution_count": null,
   "metadata": {},
   "outputs": [],
   "source": [
    "numbers = [9, 6, 7, 1, 8, 4, 5, 3, 2]\n",
    "\n",
    "numbers.sort(reverse=True)\n",
    "print(numbers)"
   ]
  },
  {
   "cell_type": "code",
   "execution_count": null,
   "metadata": {},
   "outputs": [],
   "source": [
    "numbers = [9, 6, 7, 1, 8, 4, 5, 3, 2]\n",
    "new_list = sorted(numbers)\n",
    "\n",
    "\n",
    "print(new_list)\n",
    "print(numbers)"
   ]
  },
  {
   "cell_type": "code",
   "execution_count": null,
   "metadata": {},
   "outputs": [],
   "source": [
    "numbers = [9, 6, 7, 1, 8, 4, 5, 3, 2]\n",
    "new_list = sorted(numbers, reverse=True)\n",
    "\n",
    "\n",
    "print(new_list)"
   ]
  },
  {
   "cell_type": "markdown",
   "metadata": {},
   "source": [
    "# 실습 7.14"
   ]
  },
  {
   "cell_type": "code",
   "execution_count": null,
   "metadata": {},
   "outputs": [],
   "source": [
    "print([int(x) for x in input('정수를 입력하세요 : ').split()])\n",
    "print([int(x) for x in input('정수를 입력하세요 : ').split() if x.isdigit()])"
   ]
  },
  {
   "cell_type": "code",
   "execution_count": null,
   "metadata": {},
   "outputs": [],
   "source": [
    "print([(x, y) for x in [1, 2, 3] for y in [3, 1, 4]])\n",
    "print([(x, y) for x in [1, 2, 3] for y in [3, 1, 4] if x != y])"
   ]
  },
  {
   "cell_type": "markdown",
   "metadata": {},
   "source": [
    "# 실습 7.16"
   ]
  },
  {
   "cell_type": "code",
   "execution_count": null,
   "metadata": {},
   "outputs": [],
   "source": [
    "class Cat:\n",
    "    def __init__(self, name, color = '흰색'):\n",
    "        self.name = name\n",
    "        self.color = color\n",
    "    \n",
    "    def meow(self):\n",
    "        print('내 이름은 {}, 색깔은 {}, 야옹 야옹~~'.format(self.name, self.color))\n",
    "        \n",
    "\n",
    "nabi = Cat('나비', '검정색')\n",
    "nero = Cat('네로', '흰색')\n",
    "mimi = Cat('미미', '갈색')\n",
    "nabi.meow()\n",
    "nero.meow()\n",
    "mimi.meow()"
   ]
  },
  {
   "cell_type": "markdown",
   "metadata": {},
   "source": [
    "# 도전문제 7.1"
   ]
  },
  {
   "cell_type": "code",
   "execution_count": null,
   "metadata": {},
   "outputs": [],
   "source": [
    "black_pink = ['Jisoo','Jenine','Lisa','Rose']\n",
    "print('Jenine' in black_pink)\n",
    "print('Psy' in black_pink)"
   ]
  },
  {
   "cell_type": "markdown",
   "metadata": {},
   "source": [
    "# 도전문제 7.2\n"
   ]
  },
  {
   "cell_type": "code",
   "execution_count": null,
   "metadata": {},
   "outputs": [],
   "source": [
    "numbers = [4,5,6,7,8,9]\n",
    "print(numbers[2:3])\n",
    "print(numbers[1:3])\n",
    "print(numbers[:3])\n",
    "print(numbers[1::2])"
   ]
  },
  {
   "cell_type": "markdown",
   "metadata": {},
   "source": [
    "# 도전문제 7.3\n"
   ]
  },
  {
   "cell_type": "code",
   "execution_count": null,
   "metadata": {},
   "outputs": [],
   "source": [
    "s = 'Python is strong'\n",
    "print(s[0])\n",
    "print(s[10:])\n",
    "print(s[:6])\n",
    "print(s[7:9])"
   ]
  },
  {
   "cell_type": "markdown",
   "metadata": {},
   "source": [
    "# 도전문제 7.4"
   ]
  },
  {
   "cell_type": "code",
   "execution_count": null,
   "metadata": {},
   "outputs": [],
   "source": [
    "print(sorted('FADEAWAY'))"
   ]
  },
  {
   "cell_type": "markdown",
   "metadata": {},
   "source": [
    "# 도전문제 7.5"
   ]
  },
  {
   "cell_type": "code",
   "execution_count": null,
   "metadata": {},
   "outputs": [],
   "source": [
    "import random\n",
    "\n",
    "formula = [\"100 + 200\", '1 - 2', '456 + 342', '123 - 123', '0 * 493', '34234 - 832', '25325 * 253', '5035 + 0', '324324 + 302', '25235 - 54']\n",
    "\n",
    "show = random.choice(formula)\n",
    "print(show, end = ' = ')\n",
    "print(eval(show))"
   ]
  },
  {
   "cell_type": "markdown",
   "metadata": {},
   "source": [
    "# LAB 7-1\n"
   ]
  },
  {
   "cell_type": "code",
   "execution_count": null,
   "metadata": {},
   "outputs": [],
   "source": [
    "fruit = []\n",
    "\n",
    "for _ in range(3):\n",
    "    fruit.append(input('좋아하는 과일 이름을 입력하시오: '))\n",
    "    \n",
    "if input('과일의 이름을 입력하세요: ') in fruit:\n",
    "    print('이 과일은 당신이 좋아하는 과일입니다.')\n",
    "else:\n",
    "    print('이 과일은 당신이 좋아하는 과일이 아닙니다.')    "
   ]
  },
  {
   "cell_type": "markdown",
   "metadata": {},
   "source": [
    "# LAB 7-2"
   ]
  },
  {
   "cell_type": "code",
   "execution_count": null,
   "metadata": {},
   "outputs": [],
   "source": [
    "Seoul = 9765\n",
    "Busan = 3441\n",
    "Incheon = 2954\n",
    "Daejeon = 1531\n",
    "city_pop = [Seoul, Busan, Incheon, Daejeon]\n",
    "\n",
    "min = city_pop[0]\n",
    "max = city_pop[0]\n",
    "sum = 0\n",
    "for i in city_pop:\n",
    "    if(i < min):\n",
    "        min = i\n",
    "    if(i > max):\n",
    "        max = i\n",
    "    sum += i\n",
    "    \n",
    "print(city_pop)\n",
    "print('최대 인구: ' + str(max))\n",
    "print('최소 인구: ' + str(min))      \n",
    "print('평균 인구: ' + str(sum / len(city_pop)));"
   ]
  },
  {
   "cell_type": "markdown",
   "metadata": {},
   "source": [
    "# LAB 7-3"
   ]
  },
  {
   "cell_type": "code",
   "execution_count": null,
   "metadata": {},
   "outputs": [],
   "source": [
    "population = ['Seoul', 9765, 'Busan', 3441, 'Incheon', 2954]\n",
    "print('서울 인구: ' + str(population[1]))\n",
    "print('인천 인구: ' + str(population[-1]))\n",
    "print('도시 리스트: ' + str(population[0::2]))\n",
    "print('인구의 합: '+ str(sum(population[1::2])))"
   ]
  },
  {
   "cell_type": "markdown",
   "metadata": {},
   "source": [
    "# LAB 7-4"
   ]
  },
  {
   "cell_type": "code",
   "execution_count": null,
   "metadata": {},
   "outputs": [],
   "source": [
    "import random\n",
    "\n",
    "quotoes = ['꿈을 지녀라. 그러면 어려운 현실을 이길 수 있다.', '분노는 바보들의 가슴속에만 살아간다..', \n",
    "           '고생 없이 얻을 수 있는 진실로 귀중한 것은 하나도 없다.', '사람은 사랑할 때 누구나 시인이 된다.', '시작이 반이다.']\n",
    "\n",
    "print('#' * 25)\n",
    "print('# 오늘의 명언 #')\n",
    "print('#' * 25 + '\\n') \n",
    "\n",
    "print(random.choice(quotoes))\n",
    "\n",
    "\n"
   ]
  },
  {
   "cell_type": "markdown",
   "metadata": {},
   "source": [
    "# LAB 7-5"
   ]
  },
  {
   "cell_type": "code",
   "execution_count": null,
   "metadata": {},
   "outputs": [],
   "source": [
    "import math\n",
    "\n",
    "def calCir(r):\n",
    "    area = math.pi * r ** 2\n",
    "    circum = 2 * math.pi * r\n",
    "    return area, circum\n",
    "\n",
    "area, circum = calCir(float(input('원의 반지름을 입력하시오: ')))\n",
    "print('원의 넓이는 {0}이고 원의 둘레는 {1} 이다.'.format(area, circum))"
   ]
  },
  {
   "cell_type": "markdown",
   "metadata": {},
   "source": [
    "# LAB 7-6\n"
   ]
  },
  {
   "cell_type": "code",
   "execution_count": null,
   "metadata": {},
   "outputs": [],
   "source": [
    "city_info = [('서울', 9765), ('부산', 3441), ('인천', 2954), ('광주', 1501), ('대전', 1531)]\n",
    "pop_max = 0\n",
    "pop_min = 99999999\n",
    "pop_total = 0\n",
    "pop_maxCity = ''\n",
    "pop_minCity = ''\n",
    "\n",
    "for city in city_info:\n",
    "    pop_total += city[1]\n",
    "    if city[1] > pop_max:\n",
    "        pop_max = city[1]\n",
    "        pop_maxCity = city[0]\n",
    "    if city[1] < pop_min:\n",
    "        pop_min = city[1]\n",
    "        pop_minCity = city[0]\n",
    "\n",
    "print('최대 인구: {0}, 인구: {1} 천명'.format(pop_maxCity, pop_max))\n",
    "print('최소 인구: {0}, 인구: {1} 천명'.format(pop_minCity, pop_min))\n",
    "print('리스트 최소 도시 평균 인구: {0} 천명'.format(pop_total / len(city_info)))"
   ]
  }
 ],
 "metadata": {
  "interpreter": {
   "hash": "b8b14522d60f737c26ea0f54762440cc126645685899dd8207cd41403f36f60b"
  },
  "kernelspec": {
   "display_name": "Python 3.8.8 64-bit ('base': conda)",
   "language": "python",
   "name": "python3"
  },
  "language_info": {
   "codemirror_mode": {
    "name": "ipython",
    "version": 3
   },
   "file_extension": ".py",
   "mimetype": "text/x-python",
   "name": "python",
   "nbconvert_exporter": "python",
   "pygments_lexer": "ipython3",
   "version": "3.8.8"
  },
  "orig_nbformat": 4
 },
 "nbformat": 4,
 "nbformat_minor": 2
}
