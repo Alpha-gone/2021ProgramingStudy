{
 "cells": [
  {
   "cell_type": "markdown",
   "metadata": {},
   "source": [
    "# 실습 8.4\n"
   ]
  },
  {
   "cell_type": "code",
   "execution_count": null,
   "metadata": {},
   "outputs": [],
   "source": [
    "phone_book = {'홍길동' : '010-1234-5678', '강감찬' : '010-1234-5679', '이순신' : '010-1234-5680'}\n",
    "\n",
    "print(phone_book.items())\n",
    "\n",
    "sorted_phone_book_1 = sorted(phone_book.items() , key = lambda x : x[0])\n",
    "print('sorted_phone_book_1', sorted_phone_book_1)\n",
    "\n",
    "sorted_phone_book_2 = sorted(phone_book.items() , key = lambda x : x[1])\n",
    "print('sorted_phone_book_2 ', sorted_phone_book_2)"
   ]
  },
  {
   "cell_type": "markdown",
   "metadata": {},
   "source": [
    "# 실습 8.9"
   ]
  },
  {
   "cell_type": "code",
   "execution_count": null,
   "metadata": {},
   "outputs": [],
   "source": [
    "f = open('hello.txt', 'w')\n",
    "f.write('Hello World!')\n",
    "f.close()"
   ]
  },
  {
   "cell_type": "code",
   "execution_count": null,
   "metadata": {},
   "outputs": [],
   "source": [
    "f = open('hello.txt', 'r')\n",
    "print(f.read())\n",
    "f.close"
   ]
  },
  {
   "cell_type": "markdown",
   "metadata": {},
   "source": [
    "# 도전문제 8.1"
   ]
  },
  {
   "cell_type": "code",
   "execution_count": null,
   "metadata": {},
   "outputs": [],
   "source": [
    "contact = {'성' : '홍', '이름' : '길동', '직장' : '대림대학교'}\n",
    "\n",
    "for key, value in contact.items():\n",
    "    print(key +  \": \" +  value)\n"
   ]
  },
  {
   "cell_type": "markdown",
   "metadata": {},
   "source": [
    "# 도전문제 8.2"
   ]
  },
  {
   "cell_type": "code",
   "execution_count": null,
   "metadata": {},
   "outputs": [],
   "source": [
    "items = {'콜라' : 4, '사이다' : 3, '생수' : 5}\n",
    "\n",
    "while True:\n",
    "    userChoice = int(input('메뉴를 선택하시오 1) 재고조회 2) 입고 3) 출고 4) 종료 :'))\n",
    "    \n",
    "    if userChoice == 1:\n",
    "        userKey = input('[재고조회] 물건의 이름을 입력하시오: ')\n",
    "    elif userChoice == 2:\n",
    "        userKey, userNum = input('[입고] 물건의 이름과 수량을 입력하시오: ').split(' ')\n",
    "        items[userKey] += int(userNum)\n",
    "    elif userChoice == 3:\n",
    "        userKey, userNum = input('[출고] 물건의 이름과 수량을 입력하시오: ').split(' ')\n",
    "        items[userKey] -= int(userNum)\n",
    "    elif userChoice == 4:\n",
    "        break\n",
    "        \n",
    "    print(userKey + '의 재고 :', items[userKey])    \n",
    "    "
   ]
  },
  {
   "cell_type": "markdown",
   "metadata": {},
   "source": [
    "# 도전문제 8.3\n"
   ]
  },
  {
   "cell_type": "code",
   "execution_count": null,
   "metadata": {},
   "outputs": [],
   "source": [
    "partyA = set(['Park', 'kim', 'Lee'])\n",
    "partyB = set(['Park', 'choi'])\n",
    "\n",
    "\n",
    "print('파티 A, B에 참석한 사람들', end = ': ')\n",
    "for val in partyA.union(partyB):\n",
    "    print(val, end = ', ')\n",
    "print()    \n",
    "print('파티 A, B에 중복없이 사람들',partyA.symmetric_difference(partyB))\n",
    "print('파티 A에만 참석한 사람들',partyA.difference(partyB))"
   ]
  },
  {
   "cell_type": "markdown",
   "metadata": {},
   "source": [
    "# LAB 8-1"
   ]
  },
  {
   "cell_type": "code",
   "execution_count": null,
   "metadata": {},
   "outputs": [],
   "source": [
    "items = { '커피음료' : 7, '펜' : 3, '종이컵' : 2, '우유' : 1, '콜라' : 4, '책': 5 }\n",
    "\n",
    "print('재고 : {}'.format(items[input('물건의 이름을 입력하시오: ')]))"
   ]
  },
  {
   "cell_type": "markdown",
   "metadata": {},
   "source": [
    "# LAB 8-2"
   ]
  },
  {
   "cell_type": "code",
   "execution_count": null,
   "metadata": {},
   "outputs": [],
   "source": [
    "print('사전 프로그램 시작... 종료는 q를 입력')\n",
    "dictionary = {}\n",
    "\n",
    "while True:\n",
    "    userInput = input('$  ')\n",
    "    command = userInput[0]\n",
    "    \n",
    "    if command == '<':\n",
    "        userInput = userInput[1:]\n",
    "        inputStr = userInput.split(':')\n",
    "        \n",
    "        if len(inputStr) < 2 :\n",
    "            print('입력 오류가 발생했습니다.')\n",
    "        else:\n",
    "            dictionary[inputStr[0].strip()] = inputStr[1].strip()\n",
    "            \n",
    "    elif command == '>':\n",
    "        userInput = userInput[1:]\n",
    "        inputStr = userInput.strip()\n",
    "        \n",
    "        if inputStr in dictionary:\n",
    "            print(dictionary[inputStr])\n",
    "        else:\n",
    "            print('{0}가 사전에 없습니다.'.format(inputStr))\n",
    "            \n",
    "    elif command == 'q':\n",
    "        break\n",
    "    else:\n",
    "        print('입력 오류가 발생했습니다.')\n",
    "\n",
    "print('사전 프로그램을 종료합니다.')"
   ]
  },
  {
   "cell_type": "markdown",
   "metadata": {},
   "source": [
    "# LAB 8-3"
   ]
  },
  {
   "cell_type": "code",
   "execution_count": null,
   "metadata": {},
   "outputs": [],
   "source": [
    "partyA = set(['Park', 'kim', 'Lee'])\n",
    "partyB = set(['Park', 'choi'])\n",
    "\n",
    "print('2개의 파티에 모두 참석한 사람은 다음과 같습니다.\\n {0}'.format(partyA.intersection(partyB)))"
   ]
  },
  {
   "cell_type": "markdown",
   "metadata": {},
   "source": [
    "# LAB 8-4"
   ]
  },
  {
   "cell_type": "code",
   "execution_count": null,
   "metadata": {},
   "outputs": [],
   "source": [
    "def proc(w):\n",
    "    output = ''\n",
    "    \n",
    "    for ch in w:\n",
    "        if ch.isalpha():\n",
    "            output += ch\n",
    "    return output.lower()\n",
    "\n",
    "words = set()\n",
    "file = open(input('입력 파일 이름: '), 'r')\n",
    "\n",
    "for line in file:\n",
    "    linewords = line.split()\n",
    "    \n",
    "    for word in linewords:\n",
    "        words.add(proc(word))\n",
    "\n",
    "print('사용된 단어의 개수 = {0}'.format(len(words)))\n",
    "print('words')\n",
    "    "
   ]
  }
 ],
 "metadata": {
  "interpreter": {
   "hash": "b8b14522d60f737c26ea0f54762440cc126645685899dd8207cd41403f36f60b"
  },
  "kernelspec": {
   "display_name": "Python 3.8.8 64-bit ('base': conda)",
   "language": "python",
   "name": "python3"
  },
  "language_info": {
   "codemirror_mode": {
    "name": "ipython",
    "version": 3
   },
   "file_extension": ".py",
   "mimetype": "text/x-python",
   "name": "python",
   "nbconvert_exporter": "python",
   "pygments_lexer": "ipython3",
   "version": "3.8.8"
  },
  "orig_nbformat": 4
 },
 "nbformat": 4,
 "nbformat_minor": 2
}
