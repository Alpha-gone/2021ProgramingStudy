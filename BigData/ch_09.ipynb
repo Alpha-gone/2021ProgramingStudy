{
 "cells": [
  {
   "cell_type": "markdown",
   "metadata": {},
   "source": [
    "# 실습 9.3\n"
   ]
  },
  {
   "cell_type": "code",
   "execution_count": null,
   "metadata": {},
   "outputs": [],
   "source": [
    "string = 'Hello, World'\n",
    "print(string.split(','))\n",
    "string = 'Welcome, to, Python, and ,  bla, bla   '\n",
    "print([x.strip() for x in string.split(',')])"
   ]
  },
  {
   "cell_type": "markdown",
   "metadata": {},
   "source": [
    "# 실습 9.4"
   ]
  },
  {
   "cell_type": "code",
   "execution_count": null,
   "metadata": {},
   "outputs": [],
   "source": [
    "print('-'.join('010.1234.5678'.split('.')))"
   ]
  },
  {
   "cell_type": "code",
   "execution_count": null,
   "metadata": {},
   "outputs": [],
   "source": [
    "print('010.1234.5678'.replace('.', '-'))"
   ]
  },
  {
   "cell_type": "code",
   "execution_count": null,
   "metadata": {},
   "outputs": [],
   "source": [
    "a_string = 'Actions \\n\\t speak louder the words'\n",
    "print(a_string)\n",
    "word_list = a_string.split() #spilt은 화이트스페이스를 제거함 (화이트스페이스는 공백, 탭, 엔터등을 포함)\n",
    "print(word_list)\n",
    "refind_string = ' '.join(word_list)\n",
    "print(refind_string)"
   ]
  },
  {
   "cell_type": "markdown",
   "metadata": {},
   "source": [
    "# 실습 9.7\n"
   ]
  },
  {
   "cell_type": "code",
   "execution_count": null,
   "metadata": {},
   "outputs": [],
   "source": [
    "from wordcloud import WordCloud\n",
    "import wikipedia\n",
    "import matplotlib.pyplot as plt\n",
    "\n",
    "wiki = wikipedia.page('Artificial intelligence')\n",
    "text = wiki.content\n",
    "wordcloud = WordCloud(width = 2000, height = 1500).generate(text)\n",
    "plt.figure(figsize= (40, 30))\n",
    "plt.imshow(wordcloud)\n",
    "plt.show()"
   ]
  },
  {
   "cell_type": "code",
   "execution_count": null,
   "metadata": {},
   "outputs": [],
   "source": [
    "from wordcloud import WordCloud, STOPWORDS\n",
    "import wikipedia\n",
    "import matplotlib.pyplot as plt\n",
    "\n",
    "wiki = wikipedia.page('Artificial intelligence')\n",
    "text = wiki.content\n",
    "s_words = STOPWORDS.union({'one', 'using', 'first', 'two', 'make', 'use'})\n",
    "wordcloud = WordCloud(width = 2000, height = 1500, stopwords = s_words).generate(text)\n",
    "plt.figure(figsize= (40, 30))\n",
    "plt.imshow(wordcloud)\n",
    "plt.show()"
   ]
  },
  {
   "cell_type": "markdown",
   "metadata": {},
   "source": [
    "# 실습 9.8"
   ]
  },
  {
   "cell_type": "code",
   "execution_count": null,
   "metadata": {},
   "outputs": [],
   "source": [
    "import re\n",
    "\n",
    "txt1 = 'Life is too short, you need python'\n",
    "txt2 = 'The best moments of my life.'\n",
    "print(re.search('Life', txt1))\n",
    "print(re.search('Life', txt2))\n",
    "\n",
    "match = re.search('Life', txt1)\n",
    "print(match.group())\n",
    "print(match.start())\n",
    "print(match.end())\n",
    "print(match.span())"
   ]
  },
  {
   "cell_type": "code",
   "execution_count": null,
   "metadata": {},
   "outputs": [],
   "source": [
    "import re\n",
    "\n",
    "txt1 = 'Life is too short, you need python'\n",
    "txt2 = 'The best moments of my life.'\n",
    "txt3 = 'My Life My Choice.'\n",
    "\n",
    "print(re.search('^Life', txt1))\n",
    "print(re.search('^Life', txt2))\n",
    "print(re.search('^Life', txt3))"
   ]
  },
  {
   "cell_type": "code",
   "execution_count": null,
   "metadata": {},
   "outputs": [],
   "source": [
    "import re\n",
    "\n",
    "txt1 = 'Who are you to judge the life I live'\n",
    "txt2 = 'The best moments of my life'\n",
    "\n",
    "print(re.search('life$', txt1))\n",
    "print(re.search('life$', txt2))"
   ]
  },
  {
   "cell_type": "markdown",
   "metadata": {},
   "source": [
    "# 실습 9.9"
   ]
  },
  {
   "cell_type": "code",
   "execution_count": null,
   "metadata": {},
   "outputs": [],
   "source": [
    "print(re.search('A..A', 'ABA'))\n",
    "print(re.search('A..A', 'ABBA'))\n",
    "print(re.search('A..A', 'ABBBA'))"
   ]
  },
  {
   "cell_type": "code",
   "execution_count": null,
   "metadata": {},
   "outputs": [],
   "source": [
    "print(re.search('AB*', 'A'))\n",
    "print(re.search('AB*', 'AA'))\n",
    "print(re.search('AB*', 'J-HOPE'))\n",
    "print(re.search('AB*', 'X-MAN'))\n",
    "print(re.search('AB*', 'CABBA'))\n",
    "print(re.search('AB*', 'CABBBBBA'))\n"
   ]
  },
  {
   "cell_type": "code",
   "execution_count": null,
   "metadata": {},
   "outputs": [],
   "source": [
    "print(re.search('AB?', 'A'))\n",
    "print(re.search('AB?', 'AA'))\n",
    "print(re.search('AB?', 'J-HOPE'))\n",
    "print(re.search('AB?', 'X-MAN'))\n",
    "print(re.search('AB?', 'CABBA'))\n",
    "print(re.search('AB?', 'CABBBBBA'))"
   ]
  },
  {
   "cell_type": "code",
   "execution_count": null,
   "metadata": {},
   "outputs": [],
   "source": [
    "print(re.search('AB+', 'A'))\n",
    "print(re.search('AB+', 'AA'))\n",
    "print(re.search('AB+', 'J-HOPE'))\n",
    "print(re.search('AB+', 'X-MAN'))\n",
    "print(re.search('AB+', 'CABBA'))\n",
    "print(re.search('AB+', 'CABBBBBA'))"
   ]
  },
  {
   "cell_type": "markdown",
   "metadata": {},
   "source": [
    "# 도전문제 9.1"
   ]
  },
  {
   "cell_type": "code",
   "execution_count": null,
   "metadata": {},
   "outputs": [],
   "source": [
    "t = '[ARTICLE] 200820 BLACKPINK Jennie is regarded to have great effect on KT Mystic \\\n",
    "Red as it was chosen by 50% of those who prebooked for the Samsung Galaxy Note 20 ( LG \\\n",
    "U+ Mystic Pink 30%, SKT Mystic Blue not disclosed) '\n",
    "\n",
    "filter =['SKT', 'KT', 'Samsung', 'LG']\n",
    "\n",
    "for val in filter:\n",
    "   t = t.replace(val, '*')\n",
    "\n",
    "print(t.lower())"
   ]
  },
  {
   "cell_type": "markdown",
   "metadata": {},
   "source": [
    "# 도전문제 9.2"
   ]
  },
  {
   "cell_type": "code",
   "execution_count": null,
   "metadata": {},
   "outputs": [],
   "source": [
    "t = \"It's Not The Rgiht Time To Conduct Exams. MY DEMAND IN BOLD AND CAPITAL. NO EXAMS IN COVID!!!\"\n",
    "cnt = 0\n",
    "\n",
    "for ch in t:\n",
    "    if(ch.isupper()):\n",
    "        cnt +=1\n",
    "        \n",
    "print('느낌표 갯수 : {0}'.format(t.count('!')))\n",
    "print('대문자 갯수 : {0}'.format(cnt))\n",
    "    "
   ]
  },
  {
   "cell_type": "markdown",
   "metadata": {},
   "source": [
    "# 도전문제 9.3"
   ]
  },
  {
   "cell_type": "code",
   "execution_count": null,
   "metadata": {},
   "outputs": [],
   "source": [
    "import random, string\n",
    "\n",
    "source = [string.digits, string.ascii_letters]\n",
    "source2 = string.digits + string.ascii_letters\n",
    "password = ''\n",
    "password2 =''\n",
    "\n",
    "for _ in range(int(input('몇 자리의 비밀번호를 원하십니까?'))):\n",
    "    firindx = random.randrange(0,2)\n",
    "    secidx = random.randrange(0, len(source[firindx]))\n",
    "    password += source[firindx][secidx]\n",
    "    \n",
    "    password2 += random.choice(source2)\n",
    "    \n",
    "print(password)\n",
    "print(password2)"
   ]
  },
  {
   "cell_type": "markdown",
   "metadata": {},
   "source": [
    "# 도전문제 9.4"
   ]
  },
  {
   "cell_type": "code",
   "execution_count": null,
   "metadata": {},
   "outputs": [],
   "source": [
    "from wordcloud import WordCloud, STOPWORDS\n",
    "import wikipedia\n",
    "import matplotlib.pyplot as plt\n",
    "\n",
    "wiki = wikipedia.page('Python(programming_language)')\n",
    "text = wiki.content\n",
    "s_words = STOPWORDS.union({'one', 'using', 'first', 'two', 'make', 'use'})\n",
    "wordcloud = WordCloud(width = 2000, height = 1500, stopwords = s_words).generate(text)\n",
    "plt.figure(figsize= (40, 30))\n",
    "plt.imshow(wordcloud)\n",
    "plt.show()"
   ]
  },
  {
   "cell_type": "code",
   "execution_count": null,
   "metadata": {},
   "outputs": [],
   "source": [
    "from wordcloud import WordCloud, STOPWORDS\n",
    "import wikipedia\n",
    "import matplotlib.pyplot as plt\n",
    "\n",
    "wiki = wikipedia.page('Machinelearning')\n",
    "text = wiki.content\n",
    "s_words = STOPWORDS.union({'one', 'using', 'first', 'two', 'make', 'use'})\n",
    "wordcloud = WordCloud(width = 2000, height = 1500, stopwords = s_words).generate(text)\n",
    "plt.figure(figsize= (40, 30))\n",
    "plt.imshow(wordcloud)\n",
    "plt.show()"
   ]
  },
  {
   "cell_type": "markdown",
   "metadata": {},
   "source": [
    "# LAB 9-1\n"
   ]
  },
  {
   "cell_type": "code",
   "execution_count": null,
   "metadata": {},
   "outputs": [],
   "source": [
    "import string \n",
    "\n",
    "src_str = string.ascii_uppercase\n",
    "dst_str = src_str[3:] + src_str[:3]\n",
    "\n",
    "def ciper(a):\n",
    "    idx = src_str.index(a)\n",
    "    return dst_str[idx]\n",
    "\n",
    "src = input('문장을 입력하시오: ')\n",
    "print('암호화된 문장: ', end ='')\n",
    "\n",
    "for ch in src:\n",
    "    if ch in src_str:\n",
    "        print(ciper(ch), end ='')\n",
    "    else:\n",
    "        print(ch, end = '')\n",
    "\n",
    "print('')"
   ]
  },
  {
   "cell_type": "markdown",
   "metadata": {},
   "source": [
    "# LAB 9-2\n"
   ]
  },
  {
   "cell_type": "code",
   "execution_count": null,
   "metadata": {},
   "outputs": [],
   "source": [
    "t = \"There's a epason some people are working to make it harder to vote, especially for people of color. It's because when we show up, things change.\"\n",
    "\n",
    "txtlength = len(t.split())\n",
    "print('word count: {0}'.format(txtlength))"
   ]
  },
  {
   "cell_type": "markdown",
   "metadata": {},
   "source": [
    "# LAB 9-3"
   ]
  },
  {
   "cell_type": "code",
   "execution_count": null,
   "metadata": {},
   "outputs": [],
   "source": [
    "t = \"It's Not The Right Time To Conduct Exams. MY DEMAND IN BOLD AND CAPITAL. NO EXAMS IN COVID!!!\"\n",
    "\n",
    "l = t.lower()\n",
    "print(l)"
   ]
  },
  {
   "cell_type": "markdown",
   "metadata": {},
   "source": [
    "# LAB 9-4\n"
   ]
  },
  {
   "cell_type": "code",
   "execution_count": null,
   "metadata": {},
   "outputs": [],
   "source": [
    "import random\n",
    "\n",
    "otp =''\n",
    "\n",
    "for _ in range(int(input(' 몇자리의 비밀번호를 원하십니까? '))):\n",
    "    otp += str(random.randrange(0, 10))\n",
    "\n",
    "print(otp)\n"
   ]
  }
 ],
 "metadata": {
  "interpreter": {
   "hash": "b8b14522d60f737c26ea0f54762440cc126645685899dd8207cd41403f36f60b"
  },
  "kernelspec": {
   "display_name": "Python 3.8.8 64-bit ('base': conda)",
   "language": "python",
   "name": "python3"
  },
  "language_info": {
   "codemirror_mode": {
    "name": "ipython",
    "version": 3
   },
   "file_extension": ".py",
   "mimetype": "text/x-python",
   "name": "python",
   "nbconvert_exporter": "python",
   "pygments_lexer": "ipython3",
   "version": "3.8.8"
  },
  "orig_nbformat": 4
 },
 "nbformat": 4,
 "nbformat_minor": 2
}
