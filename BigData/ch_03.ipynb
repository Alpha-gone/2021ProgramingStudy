{
 "cells": [
  {
   "cell_type": "markdown",
   "metadata": {},
   "source": [
    "# 비트 연산자"
   ]
  },
  {
   "cell_type": "code",
   "execution_count": null,
   "metadata": {},
   "outputs": [],
   "source": [
    "print(bin(9))\n",
    "print(bin(10))\n",
    "print(bin(9 & 10))\n",
    "print(bin(9 | 10))\n",
    "print(bin(~9)"
   ]
  },
  {
   "cell_type": "markdown",
   "metadata": {},
   "source": [
    "# map 함수"
   ]
  },
  {
   "cell_type": "code",
   "execution_count": null,
   "metadata": {},
   "outputs": [],
   "source": [
    "x, y, z = map(int, input(\"세 정수를 입력하시오 : \").split())\n",
    "print(x, y, z)"
   ]
  },
  {
   "cell_type": "markdown",
   "metadata": {},
   "source": [
    "# random 모듈\n"
   ]
  },
  {
   "cell_type": "code",
   "execution_count": null,
   "metadata": {},
   "outputs": [],
   "source": [
    "import random\n",
    "print(random.random())\n",
    "print(random.random())\n",
    "print(random.randint(1,7))\n",
    "print(random.randrange(7))\n",
    "print(random.randrange(1, 7))\n",
    "print(random.randrange(0, 10, 2))\n",
    "lst = [10, 20, 30, 40, 50]\n",
    "random.shuffle(lst)\n",
    "print(lst)\n",
    "print(random.choice(lst))"
   ]
  },
  {
   "cell_type": "markdown",
   "metadata": {},
   "source": [
    "# math 모듈"
   ]
  },
  {
   "cell_type": "code",
   "execution_count": null,
   "metadata": {},
   "outputs": [],
   "source": [
    "import math\n",
    "\n",
    "print(math.pow(3, 3))\n",
    "print(math.fabs(-99))\n",
    "print(math.log(2.71828))\n",
    "print(math.log(100, 10))\n",
    "print(math.pi)\n",
    "print(math.sin(math.pi / 2.0))"
   ]
  },
  {
   "cell_type": "markdown",
   "metadata": {},
   "source": [
    "# 도전문제 3.1"
   ]
  },
  {
   "cell_type": "code",
   "execution_count": null,
   "metadata": {},
   "outputs": [],
   "source": [
    "time = int(input(\"초를 입력하세요 : \"))\n",
    "hour = time // (60 * 60)\n",
    "min = (time - hour * (60 * 60)) // 60\n",
    "second = (time - hour * (60 * 60)) % 60\n",
    "print(\"입력한 시간은 \", hour, \"시간\", min, \"분\", second, \"초 입니다.\")"
   ]
  },
  {
   "cell_type": "markdown",
   "metadata": {},
   "source": [
    "# 도전문제 3.2"
   ]
  },
  {
   "cell_type": "code",
   "execution_count": null,
   "metadata": {},
   "outputs": [],
   "source": [
    "gender= int(input(\"여성이면 1, 남성이면 0을 입력하세요: \"))\n",
    "height = int(input(\"당신의 키는 얼마입니까? \"))\n",
    "waist = int(input(\"당신의 허리둘레는 얼마입니까?: \")) \n",
    "\n",
    "rfm = 64 - (20 * (height / waist)) + 12 * gender\n",
    "\n",
    "print(\"당신의 RFM은\", rfm)"
   ]
  },
  {
   "cell_type": "markdown",
   "metadata": {},
   "source": [
    "# LAB 3-1"
   ]
  },
  {
   "cell_type": "code",
   "execution_count": null,
   "metadata": {},
   "outputs": [],
   "source": [
    "import turtle\n",
    "t = turtle.Turtle()\n",
    "t.shape('turtle')\n",
    "n = int(input('몇 각형을 그리시겠어요?(3 ~ 6)'))\n",
    "\n",
    "for i in range(n):\n",
    "    t.forward(100)\n",
    "    t.left(360//n)\n",
    "\n",
    "turtle.done()"
   ]
  },
  {
   "cell_type": "markdown",
   "metadata": {},
   "source": [
    "# LAB 3-2"
   ]
  },
  {
   "cell_type": "code",
   "execution_count": null,
   "metadata": {},
   "outputs": [],
   "source": [
    "fahrenheit = int(input('화씨온도 : '))\n",
    "print('섭씨온도 : ' + str((fahrenheit - 32 ) * 5/9))"
   ]
  },
  {
   "cell_type": "markdown",
   "metadata": {},
   "source": [
    "# LAB 3-3"
   ]
  },
  {
   "cell_type": "code",
   "execution_count": null,
   "metadata": {},
   "outputs": [],
   "source": [
    "weight = float(input('몸무게를 kg단위로 입력하시오 : '))\n",
    "height = float(input('키를 미터단위로 입력하시오 : '))\n",
    "\n",
    "print('당신의 BMI = ' + str(weight/(height ** 2)))"
   ]
  },
  {
   "cell_type": "markdown",
   "metadata": {},
   "source": [
    "# LAB 3-4"
   ]
  },
  {
   "cell_type": "code",
   "execution_count": null,
   "metadata": {},
   "outputs": [],
   "source": [
    "money = int(input('투입한 돈 : '))\n",
    "price = int(input('물건값 : '))\n",
    "charge = money - price\n",
    "\n",
    "print('거스름돈: {0}'.format(charge))\n",
    "print('500원 동전의 개수: {0}'.format(charge // 500))\n",
    "charge %= 500\n",
    "print('100원 동전의 개수: {0}'.format(charge // 100))"
   ]
  },
  {
   "cell_type": "markdown",
   "metadata": {},
   "source": [
    "# LAB 3-5"
   ]
  },
  {
   "cell_type": "code",
   "execution_count": null,
   "metadata": {},
   "outputs": [],
   "source": [
    "num1 = int(input('첫 번째 수를 입력하시오: '))\n",
    "num2 = int(input('두 번째 수를 입력하시오: '))\n",
    "num3 = int(input('세 번째 수를 입력하시오: '))\n",
    "\n",
    "print('평균 = {0}'.format((num1 + num2 + num3)/3))"
   ]
  }
 ],
 "metadata": {
  "interpreter": {
   "hash": "b8b14522d60f737c26ea0f54762440cc126645685899dd8207cd41403f36f60b"
  },
  "kernelspec": {
   "display_name": "Python 3.8.8 64-bit ('base': conda)",
   "name": "python3"
  },
  "language_info": {
   "codemirror_mode": {
    "name": "ipython",
    "version": 3
   },
   "file_extension": ".py",
   "mimetype": "text/x-python",
   "name": "python",
   "nbconvert_exporter": "python",
   "pygments_lexer": "ipython3",
   "version": "3.8.8"
  },
  "orig_nbformat": 4
 },
 "nbformat": 4,
 "nbformat_minor": 2
}
