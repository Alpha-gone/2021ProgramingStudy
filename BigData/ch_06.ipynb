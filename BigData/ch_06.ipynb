{
 "cells": [
  {
   "cell_type": "markdown",
   "metadata": {},
   "source": [
    "# 도전문제 6.1"
   ]
  },
  {
   "cell_type": "code",
   "execution_count": null,
   "metadata": {},
   "outputs": [],
   "source": [
    "def print_star():\n",
    "    print('*' * 20)\n",
    "\n",
    "print_star()\n",
    "print_star()\n",
    "print_star()\n",
    "print_star()\n",
    "print_star()"
   ]
  },
  {
   "cell_type": "markdown",
   "metadata": {},
   "source": [
    "# 도전문제 6.2"
   ]
  },
  {
   "cell_type": "code",
   "execution_count": null,
   "metadata": {},
   "outputs": [],
   "source": [
    "def print_address(name, addres):\n",
    "    print('이름 : {}'.format(name))\n",
    "    print('주소 : {}'.format(addres))"
   ]
  },
  {
   "cell_type": "markdown",
   "metadata": {},
   "source": [
    "# 도전문제 6.3"
   ]
  },
  {
   "cell_type": "code",
   "execution_count": null,
   "metadata": {},
   "outputs": [],
   "source": [
    "def get_square(a,b,c):\n",
    "    return a ** 2, b ** 2, c ** 2\n",
    "\n",
    "a,b,c = 1,2,3\n",
    "a_sq, b_sq, c_sq = get_square(a,b,c)\n",
    "print(a, '제곱 : ', a_sq, ',', b, '제곱 : ', b_sq, ',', c, '제곱 : ',c_sq)"
   ]
  },
  {
   "cell_type": "markdown",
   "metadata": {},
   "source": [
    "# 도전문제 6.4"
   ]
  },
  {
   "cell_type": "code",
   "execution_count": null,
   "metadata": {},
   "outputs": [],
   "source": [
    "int1 = 0\n",
    "int2 =1\n",
    "temp = 0\n",
    "count = 0\n",
    "\n",
    "while(True):\n",
    "    count += 1\n",
    "    temp = int1 + int2\n",
    "    int1 = int2\n",
    "    int2 = temp\n",
    "    print(\"{0} 번째 수 {1}\".format(count, temp))\n",
    "\n",
    "def fibo(n):\n",
    "    if n < 2:\n",
    "        return 1\n",
    "    int1, int2 = 0, 1\n",
    "    temp = 0\n",
    "    for _ in range(n -1):\n",
    "        temp = int1 + int2\n",
    "        int1 = int2\n",
    "        int2 = temp\n",
    "    \n",
    "    return temp\n",
    "    "
   ]
  },
  {
   "cell_type": "markdown",
   "metadata": {},
   "source": [
    "# LAB6-1"
   ]
  },
  {
   "cell_type": "code",
   "execution_count": null,
   "metadata": {},
   "outputs": [],
   "source": [
    "import turtle\n",
    "t = turtle.Turtle()\n",
    "t.shape('turtle')\n",
    "\n",
    "def square(length):\n",
    "    for i in range(4):\n",
    "        t.forward(length)\n",
    "        t.left(90)\n",
    "\n",
    "square(100)\n",
    "square(200)\n",
    "square(300)"
   ]
  },
  {
   "cell_type": "markdown",
   "metadata": {},
   "source": [
    "# LAB6-2"
   ]
  },
  {
   "cell_type": "code",
   "execution_count": null,
   "metadata": {},
   "outputs": [],
   "source": [
    "import turtle\n",
    "t = turtle.Turtle()\n",
    "t.shape('turtle')\n",
    "\n",
    "def degree_polygon(degree, length):\n",
    "    for i in range(degree):\n",
    "        t.forward(length)\n",
    "        t.left(360// degree)\n",
    "\n",
    "for i in range(10):\n",
    "    t.left(20)\n",
    "    degree_polygon(6, 100)"
   ]
  },
  {
   "cell_type": "markdown",
   "metadata": {},
   "source": [
    "# my_func.py 파일 생성"
   ]
  },
  {
   "cell_type": "code",
   "execution_count": 2,
   "metadata": {},
   "outputs": [
    {
     "name": "stdout",
     "output_type": "stream",
     "text": [
      "Overwriting my_func.py\n"
     ]
    }
   ],
   "source": [
    "%%writefile my_func.py\n",
    "def mf_print(msg, n = 1):\n",
    "    print(msg * n)"
   ]
  },
  {
   "cell_type": "markdown",
   "metadata": {},
   "source": [
    "# 모듈사용"
   ]
  },
  {
   "cell_type": "code",
   "execution_count": 3,
   "metadata": {},
   "outputs": [
    {
     "name": "stdout",
     "output_type": "stream",
     "text": [
      "1번째 테스트1번째 테스트1번째 테스트1번째 테스트1번째 테스트1번째 테스트1번째 테스트1번째 테스트1번째 테스트1번째 테스트\n"
     ]
    }
   ],
   "source": [
    "import my_func\n",
    "\n",
    "my_func.mf_print(\"1번째 테스트\", 10)\n"
   ]
  },
  {
   "cell_type": "code",
   "execution_count": 4,
   "metadata": {},
   "outputs": [
    {
     "name": "stdout",
     "output_type": "stream",
     "text": [
      "2번째 테스트2번째 테스트2번째 테스트\n"
     ]
    }
   ],
   "source": [
    "import my_func as mf\n",
    "\n",
    "mf.mf_print('2번째 테스트', 3)"
   ]
  },
  {
   "cell_type": "code",
   "execution_count": 5,
   "metadata": {},
   "outputs": [
    {
     "name": "stdout",
     "output_type": "stream",
     "text": [
      "3번째 테스트3번째 테스트3번째 테스트3번째 테스트\n"
     ]
    }
   ],
   "source": [
    "from my_func import mf_print\n",
    "\n",
    "mf_print('3번째 테스트', 4)"
   ]
  },
  {
   "cell_type": "code",
   "execution_count": 6,
   "metadata": {},
   "outputs": [
    {
     "name": "stdout",
     "output_type": "stream",
     "text": [
      "4번째 테스트4번째 테스트4번째 테스트4번째 테스트4번째 테스트\n"
     ]
    }
   ],
   "source": [
    "from my_func import *\n",
    "\n",
    "mf_print('4번째 테스트',5)"
   ]
  }
 ],
 "metadata": {
  "interpreter": {
   "hash": "b8b14522d60f737c26ea0f54762440cc126645685899dd8207cd41403f36f60b"
  },
  "kernelspec": {
   "display_name": "Python 3.8.8 64-bit ('base': conda)",
   "name": "python3"
  },
  "language_info": {
   "codemirror_mode": {
    "name": "ipython",
    "version": 3
   },
   "file_extension": ".py",
   "mimetype": "text/x-python",
   "name": "python",
   "nbconvert_exporter": "python",
   "pygments_lexer": "ipython3",
   "version": "3.8.8"
  },
  "orig_nbformat": 4
 },
 "nbformat": 4,
 "nbformat_minor": 2
}
