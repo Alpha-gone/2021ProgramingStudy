{
 "cells": [
  {
   "cell_type": "markdown",
   "metadata": {},
   "source": [
    "# 도전문제 4.1"
   ]
  },
  {
   "cell_type": "code",
   "execution_count": null,
   "metadata": {},
   "outputs": [],
   "source": [
    "speed = int(input('속도를 입력하세요 : '))\n",
    "if speed > 30:\n",
    "    print('과속입니다. 속도를 줄이세요')"
   ]
  },
  {
   "cell_type": "markdown",
   "metadata": {},
   "source": [
    "# 도전문제 4.2"
   ]
  },
  {
   "cell_type": "code",
   "execution_count": null,
   "metadata": {},
   "outputs": [],
   "source": [
    "speed = int(input('속도를 입력하세요 : '))\n",
    "if speed > 30:\n",
    "    print('과속입니다. 속도를 줄이세요')\n",
    "else:\n",
    "    print('안전운전세요')"
   ]
  },
  {
   "cell_type": "markdown",
   "metadata": {},
   "source": [
    "# 도전문제 4.3"
   ]
  },
  {
   "cell_type": "code",
   "execution_count": null,
   "metadata": {},
   "outputs": [],
   "source": [
    "if 0 > int(input('수를 입력하세요:')):\n",
    "    print('음수입니다.')\n",
    "else:\n",
    "    print('음수가 아닙니다.')"
   ]
  },
  {
   "cell_type": "code",
   "execution_count": null,
   "metadata": {},
   "outputs": [],
   "source": [
    "if 10000 <= int(input('수를 입력하세요:')):\n",
    "    print('고수입니다.')\n",
    "else:\n",
    "    print('입문자입니다.')"
   ]
  },
  {
   "cell_type": "code",
   "execution_count": null,
   "metadata": {},
   "outputs": [],
   "source": [
    "num1, num2 = map(int, input('두 수를 입력하세요: ').split(' '))\n",
    "if num1 == num2:\n",
    "    print('두 값이 일치합니다.')\n",
    "else:\n",
    "    print('두 값이 일치하지 않습니다.')"
   ]
  },
  {
   "cell_type": "markdown",
   "metadata": {},
   "source": [
    "# 도전 문제 4.4"
   ]
  },
  {
   "cell_type": "code",
   "execution_count": null,
   "metadata": {},
   "outputs": [],
   "source": [
    "import turtle\n",
    "t = turtle.Turtle()\n",
    "t.shape('turtle')\n",
    "\n",
    "t.penup()\n",
    "t.goto(100, 100)\n",
    "t.write('두 수 모두 양수.')\n",
    "t.goto(-100, 100)\n",
    "t.write('첫번재 수만 음수.')\n",
    "t.goto(-100, -100)\n",
    "t.write('두 수 모두 음수.')\n",
    "t.goto(100,-100)\n",
    "t.write('두 번째 수만 음수.')\n",
    "\n",
    "t.goto(0, 0)\n",
    "t.pendown()\n",
    "x, y = map(int,turtle.textinput(\"\", '숫자를 입력하시오: ').split())\n",
    "\n",
    "if x > 0 and y > 0:\n",
    "    t.goto(100,100)\n",
    "elif x < 0 and y > 0:\n",
    "    t.goto(-100, 100)\n",
    "elif x > 0 and y > 0:\n",
    "    t.goto(-100, -100)\n",
    "else:\n",
    "    t.goto(100,-100)\n",
    "\n",
    "turtle.done()"
   ]
  },
  {
   "cell_type": "markdown",
   "metadata": {},
   "source": [
    "# 도전문제 4.5"
   ]
  },
  {
   "cell_type": "code",
   "execution_count": null,
   "metadata": {},
   "outputs": [],
   "source": [
    "import turtle\n",
    "t = turtle.turtle\n",
    "t.shape(\"turtle\")\n",
    "\n",
    "t.penup()\n",
    "\n",
    "t.goto(0, 0)\n",
    "x, y = map(turtle.textinput(\"x,y\", \"숫자를 입력하시오\"))\n",
    "if x < y :\n",
    "    t.goto(-100, 0)\n",
    "elif x > y:\n",
    "    t.goto(100,0)\n",
    "else:\n",
    "    t.goto(0, 100)\n",
    "\n",
    "turtle.done()"
   ]
  },
  {
   "cell_type": "markdown",
   "metadata": {},
   "source": [
    "# 도전문제 4.6"
   ]
  },
  {
   "cell_type": "code",
   "execution_count": null,
   "metadata": {},
   "outputs": [],
   "source": [
    "if int(input('나이를 입력하시오: ') >= 15):\n",
    "    print('본 영화를 보실 수 있습니다.')y\n",
    "    print('영화의 가격은 10000원 입니다.')\n",
    "else:\n",
    "    print('영화를 보실 수 없습니다.')\n",
    "    print('다른 영화를 보시겠어요?')"
   ]
  },
  {
   "cell_type": "code",
   "execution_count": null,
   "metadata": {},
   "outputs": [],
   "source": [
    "if input('카드 종류를 입력') == '성인':\n",
    "    print('승인되었습니다.')\n",
    "else:\n",
    "    print('청소년 입니다.')"
   ]
  },
  {
   "cell_type": "markdown",
   "metadata": {},
   "source": [
    "# 도전문제 4.7"
   ]
  },
  {
   "cell_type": "code",
   "execution_count": null,
   "metadata": {},
   "outputs": [],
   "source": [
    "import turtle\n",
    "t = turtle.Turtle()\n",
    "t.shape('turtle')\n",
    "t.width(3)\n",
    "t.shapesize(3, 3)\n",
    "\n",
    "while True:\n",
    "    command = input('명령을 입력하시오: ')\n",
    "\n",
    "    if command == 'l':\n",
    "        t.left(90)\n",
    "        t.forward(100)\n",
    "\n",
    "    if command == 'r':\n",
    "        t.right(90)\n",
    "        t.forward(100)\n",
    "\n",
    "    if command == 'f':\n",
    "        t.forward(100)"
   ]
  },
  {
   "cell_type": "code",
   "execution_count": null,
   "metadata": {},
   "outputs": [],
   "source": [
    "import turtle\n",
    "t = turtle.Turtle()\n",
    "t.shape('turtle')\n",
    "t.width(3)\n",
    "t.shapesize(3, 3)\n",
    "\n",
    "while True:\n",
    "    command = input('명령을 입력하시오: ')\n",
    "\n",
    "    if command == 'l':\n",
    "        t.left(90)\n",
    "        t.forward(100)\n",
    "\n",
    "    if command == 'r':\n",
    "        t.right(90)\n",
    "        t.forward(100)\n",
    "\n",
    "    if command == 'f':\n",
    "        t.forward(100)\n",
    "    \n",
    "    if command == 'h':\n",
    "        t.shapesize(10, 10)\n",
    "\n",
    "    if command == 'n':\n",
    "        t.shapesize(3, 3)\n"
   ]
  },
  {
   "cell_type": "code",
   "execution_count": null,
   "metadata": {},
   "outputs": [],
   "source": [
    "import turtle\n",
    "t = turtle.Turtle()\n",
    "t.shape('turtle')\n",
    "t.width(3)\n",
    "t.shapesize(3, 3)\n",
    "\n",
    "size = input('크기를 입력하시오: ')\n",
    "t.shapesize(size, size)   "
   ]
  },
  {
   "cell_type": "markdown",
   "metadata": {},
   "source": [
    "# 도전문제 4.8"
   ]
  },
  {
   "cell_type": "code",
   "execution_count": null,
   "metadata": {},
   "outputs": [],
   "source": [
    "import turtle, random\n",
    "t = turtle.Turtle()\n",
    "t.shape('turtle')\n",
    "\n",
    "for i in range(10):\n",
    "    if random.randrange(2) == 0:\n",
    "        t.left(90)\n",
    "    else:\n",
    "        t.right(90)\n",
    "\n",
    "    t.forward(50)\n",
    "\n",
    "turtle.exitonclick()"
   ]
  },
  {
   "cell_type": "markdown",
   "metadata": {},
   "source": [
    "# 도전문제 4.9"
   ]
  },
  {
   "cell_type": "code",
   "execution_count": null,
   "metadata": {},
   "outputs": [],
   "source": [
    "import random\n",
    "name_1st = input(\"player1의 이름 : \")\n",
    "name_2nd = input(\"player2의 이름 : \")\n",
    "print(\"......주사위를 굴립니다.......\")\n",
    "dice_1st = random.randint(1, 6)\n",
    "dice_2nd = random.randint(1, 6)\n",
    "\n",
    "print(name_1st + \"의 주사위 번호는 \", dice_1st)\n",
    "print(name_2nd + \"의 주사위 번호는 \", dice_2nd)\n",
    "\n",
    "if dice_1st > dice_2nd:\n",
    "    print(name_1st+\"이 이겼습니다.\")\n",
    "elif dice_1st < dice_2nd:\n",
    "    print(name_2nd+\"이 이겼습니다.\")\n",
    "else:\n",
    "    print(\"비겼습니다.\")"
   ]
  },
  {
   "cell_type": "markdown",
   "metadata": {},
   "source": [
    "# 도전문제 4.10"
   ]
  },
  {
   "cell_type": "code",
   "execution_count": null,
   "metadata": {},
   "outputs": [],
   "source": [
    "x, y = map(float, input('점의 좌표 x, y를 입력하시오: ').split())\n",
    "\n",
    "if x*x + y * y > (5 + 3) * (5 + 4):\n",
    "    print('원의 외부에 있음')\n",
    "else:\n",
    "    print('원의 내부에 있음')"
   ]
  },
  {
   "cell_type": "markdown",
   "metadata": {},
   "source": [
    "# 도전문제 4.11"
   ]
  },
  {
   "cell_type": "code",
   "execution_count": null,
   "metadata": {},
   "outputs": [],
   "source": [
    "id = 'ilovepython'\n",
    "pw = 'mypass1234'\n",
    "\n",
    "if id == input('아이디를 입력하시오: ') and pw == input('비밀번호를 입력하시오: '):\n",
    "    print('환영합니다.')\n",
    "elif id != input('아이디를 입력하시오: ') and pw == input('비밀번호를 입력하시오: '):\n",
    "    print('아이디를 찾을 수 없습니다.')\n",
    "elif id == input('아이디를 입력하시오: ') and pw != input('비밀번호를 입력하시오: '):\n",
    "    print('비밀번호가 틀렸습니다.')"
   ]
  },
  {
   "cell_type": "markdown",
   "metadata": {},
   "source": [
    "# 도전문제 4.12"
   ]
  },
  {
   "cell_type": "code",
   "execution_count": null,
   "metadata": {},
   "outputs": [],
   "source": [
    "import random\n",
    "\n",
    "options = ['왼쪽', '중앙','오른쪽']\n",
    "\n",
    "com = random.choice(options)\n",
    "\n",
    "user = input(\"어디를 공격하시겠어요?(왼쪽, 중앙, 오른쪽\")\n",
    "\n",
    "if com == user:\n",
    "    print(\"공격에 실패했습니다.\")\n",
    "else:\n",
    "    print(\"공격에 성공했습니다.\")\n",
    "print(\"컴퓨터의 수비위치 : \" + com)"
   ]
  },
  {
   "cell_type": "markdown",
   "metadata": {},
   "source": [
    "# 도전문제 4.13"
   ]
  },
  {
   "cell_type": "code",
   "execution_count": null,
   "metadata": {},
   "outputs": [],
   "source": [
    "import turtle\n",
    "t = turtle.Turtle()\n",
    "t.shape('turtle')\n",
    "\n",
    "s = turtle.textinput('', '도형을 입력하시오: ')\n",
    "if s == '사각형':\n",
    "    w = int(turtle.textinput('', '가로: '))\n",
    "    d = int(turtle.textinput('', '세로: '))\n",
    "\n",
    "    t.forward(w)\n",
    "    t.left(90)\n",
    "    t.forward(h)\n",
    "    t.left(90)\n",
    "    t.forward(w)\n",
    "    t.left(90)\n",
    "    t.forward(h)\n",
    "elif s== '삼각형':\n",
    "    w = int(turtle.textinput('', '빗변의 길이: '))\n",
    "\n",
    "    t.forward(w)\n",
    "    t.left(120)\n",
    "    t.forward(w)\n",
    "    t.left(120)\n",
    "    t.forward(w)\n",
    "    t.left(120)\n",
    "elif s== '원형':\n",
    "    r = int(turtle.textinput('', '반지름의 길이: '))\n",
    "    t.circle(r)\n",
    "\n",
    "turtle.exitonclick()"
   ]
  },
  {
   "cell_type": "markdown",
   "metadata": {},
   "source": [
    "# LAB 4-1"
   ]
  },
  {
   "cell_type": "code",
   "execution_count": null,
   "metadata": {},
   "outputs": [],
   "source": [
    "import turtle\n",
    "t = turtle.Turtle()\n",
    "t.shape('turtle')\n",
    "\n",
    "t.penup()\n",
    "t.goto(100, 100)\n",
    "t.write('거북이가 여기로 오면 양수입니다.')\n",
    "t.goto(100, 0)\n",
    "t.write('거북이가 여기로 오면 0입니다.')\n",
    "t.goto(100, -100)\n",
    "t.write('거북이가 여기로 오면 음수입니다.')\n",
    "\n",
    "t.goto(0, 0)\n",
    "t.pendown()\n",
    "n = int(turtle.textinput(\"\", '숫자를 입력하시오: '))\n",
    "\n",
    "if n > 0:\n",
    "    t.goto(100,100)\n",
    "elif n == 0:\n",
    "    t.goto(100, 0)\n",
    "else:\n",
    "    t.goto(100, -100)\n",
    "\n",
    "turtle.done()"
   ]
  },
  {
   "cell_type": "markdown",
   "metadata": {},
   "source": [
    "# LAB 4-2"
   ]
  },
  {
   "cell_type": "code",
   "execution_count": null,
   "metadata": {},
   "outputs": [],
   "source": [
    "if int(input('나이를 입력하시오: ') >= 15):\n",
    "    print('본 영화를 보실 수 있습니다.')\n",
    "else:\n",
    "    print('본 영화를 보실 수 없습니다.')"
   ]
  },
  {
   "cell_type": "markdown",
   "metadata": {},
   "source": [
    "# LAB 4-3"
   ]
  },
  {
   "cell_type": "code",
   "execution_count": null,
   "metadata": {},
   "outputs": [],
   "source": [
    "import turtle\n",
    "t. turtle.Turtle()\n",
    "t.shape('turtle')\n",
    "\n",
    "t.width(3)\n",
    "t.shapesize(3, 3)\n",
    "\n",
    "while True:\n",
    "    command = input('명령을 입력하시오: ')\n",
    "\n",
    "    if command == 'l':\n",
    "        t.left(90)\n",
    "        t.forward(100)\n",
    "\n",
    "    if command == 'r':\n",
    "        t.right(90)\n",
    "        t.forward(100)\n"
   ]
  },
  {
   "cell_type": "markdown",
   "metadata": {},
   "source": [
    "# LAB 4-4"
   ]
  },
  {
   "cell_type": "code",
   "execution_count": null,
   "metadata": {},
   "outputs": [],
   "source": [
    "year = int(input('연도를 입력하시오: '))\n",
    "if(year% 4 == 0 and year % 100 != 0) or year % 400 == 0:\n",
    "    print(year, '년은 윤년입니다.')\n",
    "else:\n",
    "    print(year, '년은 윤년이 아닙니다.')"
   ]
  },
  {
   "cell_type": "markdown",
   "metadata": {},
   "source": [
    "# LAB 4-5"
   ]
  },
  {
   "cell_type": "code",
   "execution_count": null,
   "metadata": {},
   "outputs": [],
   "source": [
    "import random\n",
    "\n",
    "print('동전 던지기 게임을 시작합니다.')\n",
    "coin = random.randrange(2)\n",
    "if coin == 0:\n",
    "    print('앞면입니다.')\n",
    "else:\n",
    "    print('뒷면입니다.')\n",
    "\n",
    "print('게임이 종료되었습니다.')"
   ]
  },
  {
   "cell_type": "markdown",
   "metadata": {},
   "source": [
    "# LAB 4-6"
   ]
  },
  {
   "cell_type": "code",
   "execution_count": null,
   "metadata": {},
   "outputs": [],
   "source": [
    "x, y = map(float, input('점의 좌표 x, y를 입력하시오: ').split())\n",
    "\n",
    "if x*x + y * y > 5 * 5:\n",
    "    print('원의 외부에 있음')\n",
    "else:\n",
    "    print('원의 내부에 있음')"
   ]
  },
  {
   "cell_type": "markdown",
   "metadata": {},
   "source": [
    "# LAB 4-7"
   ]
  },
  {
   "cell_type": "code",
   "execution_count": null,
   "metadata": {},
   "outputs": [],
   "source": [
    "id = 'ilovepython'\n",
    "\n",
    "if id == input('아이디를 입력하시오: '):\n",
    "    print('환영합니다.')\n",
    "else:\n",
    "    print('아이디를 찾을 수 없습니다.')"
   ]
  },
  {
   "cell_type": "markdown",
   "metadata": {},
   "source": [
    "# LAB 4-8"
   ]
  },
  {
   "cell_type": "code",
   "execution_count": null,
   "metadata": {},
   "outputs": [],
   "source": [
    "import random\n",
    "\n",
    "n = random.randint(1, 3)\n",
    "\n",
    "if n == 1:\n",
    "    com = '왼쪽'\n",
    "elif n == 2:\n",
    "    com ='중앙'\n",
    "else:\n",
    "    com ='오른쪽'\n",
    "\n",
    "user = input(\"어디를 공격하시겠어요?(왼쪽, 중앙, 오른쪽\")\n",
    "\n",
    "if com == user:\n",
    "    print(\"공격에 실패했습니다.\")\n",
    "else:\n",
    "    print(\"공격에 성공했습니다.\")\n",
    "print(\"컴퓨터의 수비위치 : \" + com)"
   ]
  },
  {
   "cell_type": "markdown",
   "metadata": {},
   "source": [
    "# LAB 4-9"
   ]
  },
  {
   "cell_type": "code",
   "execution_count": null,
   "metadata": {},
   "outputs": [],
   "source": [
    "import turtle\n",
    "t = turtle.Turtle()\n",
    "t.shape('turtle')\n",
    "\n",
    "s = turtle.textinput('', '도형을 입력하시오: ')\n",
    "if s == '사각형':\n",
    "    w = int(turtle.textinput('', '가로: '))\n",
    "    d = int(turtle.textinput('', '세로: '))\n",
    "\n",
    "    t.forward(w)\n",
    "    t.left(90)\n",
    "    t.forward(h)\n",
    "    t.left(90)\n",
    "    t.forward(w)\n",
    "    t.left(90)\n",
    "    t.forward(h)\n",
    "\n",
    "turtle.done()"
   ]
  }
 ],
 "metadata": {
  "interpreter": {
   "hash": "b8b14522d60f737c26ea0f54762440cc126645685899dd8207cd41403f36f60b"
  },
  "kernelspec": {
   "display_name": "Python 3.8.8 64-bit ('base': conda)",
   "name": "python3"
  },
  "language_info": {
   "codemirror_mode": {
    "name": "ipython",
    "version": 3
   },
   "file_extension": ".py",
   "mimetype": "text/x-python",
   "name": "python",
   "nbconvert_exporter": "python",
   "pygments_lexer": "ipython3",
   "version": "3.8.8"
  },
  "orig_nbformat": 4
 },
 "nbformat": 4,
 "nbformat_minor": 2
}
