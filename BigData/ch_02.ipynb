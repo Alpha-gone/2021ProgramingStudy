{
 "cells": [
  {
   "cell_type": "markdown",
   "metadata": {},
   "source": [
    "# 도전문제 2.1"
   ]
  },
  {
   "cell_type": "code",
   "execution_count": null,
   "metadata": {},
   "outputs": [],
   "source": [
    "height = 1.72\n",
    "weight = 78.8\n",
    "bmi = weight / height **2\n",
    "print(bmi)"
   ]
  },
  {
   "cell_type": "markdown",
   "metadata": {},
   "source": [
    "# 도전문제 2.2"
   ]
  },
  {
   "cell_type": "code",
   "execution_count": null,
   "metadata": {},
   "outputs": [],
   "source": [
    "radi = 20\n",
    "pi = 3.14\n",
    "area = pi * radi ** 2\n",
    "rou = 2 * radi * pi\n",
    "print(\"반지름 {0}의 면적 : {1}, 지름 : {2}\".format(radi, area, rou))\n",
    "\n",
    "radi = 30\n",
    "area = pi * radi ** 2\n",
    "rou = 2 * radi * pi\n",
    "print(\"반지름 {0}의 면적 : {1}, 지름 : {2}\".format(radi, area, rou))"
   ]
  },
  {
   "cell_type": "markdown",
   "metadata": {},
   "source": [
    "# 도전문제 2.3"
   ]
  },
  {
   "cell_type": "code",
   "execution_count": null,
   "metadata": {},
   "outputs": [],
   "source": [
    "import turtle\n",
    "\n",
    "t= turtle.Turtle()\n",
    "t.shape('turtle')\n",
    "\n",
    "t.circle(50)\n",
    "t.circle(100)\n",
    "t.circle(200)\n",
    "t.left(90)\n",
    "t.circle(50)\n",
    "t.circle(100)\n",
    "t.circle(200)\n",
    "t.left(90)\n",
    "t.circle(50)\n",
    "t.circle(100)\n",
    "t.circle(200)\n",
    "t.left(90)\n",
    "t.circle(50)\n",
    "t.circle(100)\n",
    "t.circle(200)"
   ]
  },
  {
   "cell_type": "markdown",
   "metadata": {},
   "source": [
    "# 도전문제 2.4"
   ]
  },
  {
   "cell_type": "code",
   "execution_count": null,
   "metadata": {},
   "outputs": [],
   "source": [
    "import turtle\n",
    "\n",
    "t= turtle.Turtle()\n",
    "t.shape('turtle')\n",
    "\n",
    "t.circle(50)\n",
    "t.circle(100)\n",
    "t.circle(200)\n",
    "t.left(90)\n",
    "t.circle(50)\n",
    "t.circle(100)\n",
    "t.circle(200)\n",
    "t.left(90)\n",
    "t.circle(50)\n",
    "t.circle(100)\n",
    "t.circle(200)\n",
    "t.left(90)\n",
    "t.circle(50)\n",
    "t.circle(100)\n",
    "t.circle(200)"
   ]
  },
  {
   "cell_type": "markdown",
   "metadata": {},
   "source": [
    "# 도전문제 2.5"
   ]
  },
  {
   "cell_type": "code",
   "execution_count": null,
   "metadata": {},
   "outputs": [],
   "source": [
    "x = 6\n",
    "y = 7\n",
    "print (\"1)\", x + y)\n",
    "\n",
    "x = '7'\n",
    "y = '6'\n",
    "print (\"2)\", x + y)\n",
    "\n",
    "x = '7'\n",
    "y = '6'\n",
    "print (\"3)\", x + y + x)\n",
    "\n",
    "x = 6\n",
    "y = 7\n",
    "print (\"4)\", x + y + x + y)"
   ]
  },
  {
   "cell_type": "markdown",
   "metadata": {},
   "source": [
    "# 도전문제 2.6"
   ]
  },
  {
   "cell_type": "code",
   "execution_count": null,
   "metadata": {},
   "outputs": [],
   "source": [
    "height = float(input(\"키를 입력하세요 cm: \")) / 100\n",
    "weight = float(input(\"몸무게를 입력하세요 Kg: \")) \n",
    "bmi = weight/height ** 2\n",
    "print(bmi)"
   ]
  },
  {
   "cell_type": "code",
   "execution_count": null,
   "metadata": {},
   "outputs": [],
   "source": [
    "a = int(input('수를입력하세요'))\n",
    "b = int(input('수를입력하세요'))\n",
    "sum = a + b\n",
    "avg = sum / 2\n",
    "print(\"합 : \", sum, \"평균 : \", avg)"
   ]
  },
  {
   "cell_type": "code",
   "execution_count": null,
   "metadata": {},
   "outputs": [],
   "source": [
    "a = int(input('수를입력하세요'))\n",
    "b = int(input('수를입력하세요'))\n",
    "c =  int(input('수를입력하세요'))\n",
    "sum = a + b + c\n",
    "avg = sum / 3\n",
    "print(\"합 : \", sum, \"평균 : \", avg)"
   ]
  },
  {
   "cell_type": "markdown",
   "metadata": {},
   "source": [
    "# 도전문제 2.7"
   ]
  },
  {
   "cell_type": "code",
   "execution_count": null,
   "metadata": {},
   "outputs": [],
   "source": [
    "sports = input(\"어떤 스포츠 입니까?\")\n",
    "stardium = input(\"경기장은 어디입니까? \")\n",
    "w_team = input(\"이긴팀은 어디입니까? \")\n",
    "l_team = input(\"진 팀은 어디입니까? \")\n",
    "best_player = input(\"우수선수는 누구입니까? \")\n",
    "score = input(\"스코어는 몇대몇입니까? \")\n",
    "\n",
    "print(\"=\" * 50)\n",
    "print(\"오늘 \" + stardium + \"에서 \" + sports +\" 경기가 열렸습니다.\")\n",
    "print(w_team +\" 과 \" + l_team + \"은 치열한 공방전을 펼쳤습니다.\")\n",
    "print(best_player + \"의 맹활약으로 \" + w_team + \"가\" + l_team + \"을 \" + score + \"로 이겼습니다.\")\n",
    "print(\"=\" * 50)"
   ]
  },
  {
   "cell_type": "markdown",
   "metadata": {},
   "source": [
    "# Lab 2-1"
   ]
  },
  {
   "cell_type": "code",
   "execution_count": null,
   "metadata": {},
   "outputs": [],
   "source": [
    "height = 1.85\n",
    "weight = 89.4\n",
    "bmi = weight/height ** 2\n",
    "print(bmi)"
   ]
  },
  {
   "cell_type": "markdown",
   "metadata": {},
   "source": [
    "# Lab 2-2"
   ]
  },
  {
   "cell_type": "code",
   "execution_count": null,
   "metadata": {},
   "outputs": [],
   "source": [
    "radi = 20\n",
    "pi = 3.14\n",
    "area = pi * radi ** 2\n",
    "print(area)"
   ]
  },
  {
   "cell_type": "markdown",
   "metadata": {},
   "source": [
    "# Lab 2-3"
   ]
  },
  {
   "cell_type": "code",
   "execution_count": null,
   "metadata": {},
   "outputs": [],
   "source": [
    "import turtle\n",
    "\n",
    "t= turtle.Turtle()\n",
    "t.shape('turtle')\n",
    "\n",
    "t.circle(100)\n",
    "t.circle(200)"
   ]
  },
  {
   "cell_type": "markdown",
   "metadata": {},
   "source": [
    "# Lab 2-4"
   ]
  },
  {
   "cell_type": "code",
   "execution_count": null,
   "metadata": {},
   "outputs": [],
   "source": [
    "pri = 10000000\n",
    "rate = 0.03\n",
    "year = 5\n",
    "\n",
    "money = pri * (1.0 + rate) ** year\n",
    "print(\"원금 : \", pri)\n",
    "print(\"이율 : \", rate)\n",
    "print(\"기간 : \", year)\n",
    "print(\"수령금액 : \", money)"
   ]
  },
  {
   "cell_type": "markdown",
   "metadata": {},
   "source": [
    "# Lab 2-5"
   ]
  },
  {
   "cell_type": "code",
   "execution_count": null,
   "metadata": {},
   "outputs": [],
   "source": [
    "stardium = input(\"경기장은 어디입니까? \")\n",
    "w_team = input(\"이긴팀은 어디입니까? \")\n",
    "l_team = input(\"진 팀은 어디입니까? \")\n",
    "best_player = input(\"우수선수는 누구입니까? \")\n",
    "score = input(\"스코어는 몇대몇입니까? \")\n",
    "\n",
    "print(\"=\" * 50)\n",
    "print(\"오늘 \" + stardium + \"에서 야구 경기가 열렸습니다.\")\n",
    "print(w_team +\" 과 \" + l_team + \"은 치열한 공방전을 펼쳤습니다.\")\n",
    "print(best_player + \"의 맹활약으로 \" + w_team + \"가\" + l_team + \"을 \" + score + \"로 이겼습니다.\")\n",
    "print(\"=\" * 50)"
   ]
  },
  {
   "cell_type": "markdown",
   "metadata": {},
   "source": [
    "# Lab 2-6"
   ]
  },
  {
   "cell_type": "code",
   "execution_count": null,
   "metadata": {},
   "outputs": [],
   "source": [
    "street = \"서울시 종로구\"\n",
    "st = \"아파트\"\n",
    "num_of_room = 3\n",
    "price = 100000000\n",
    "\n",
    "print(\"#\" * 50)\n",
    "print(\"#\" + \" \" * 48 + \"#\")\n",
    "print(\"#\" + \" 부동산 매물 광고\" + \" \" * (43 - len(\" 부동산 매물 광고\")) + \"#\")\n",
    "print(\"#\" + \" \" * 48 + \"#\")\n",
    "print(\"#\" * 50)\n",
    "print(\"\")\n",
    "print(street +\"에 위치한 아주 좋은 \" + st + \"가 매물로 나왔습니다. 이 \" + st +\"는 \" + str(num_of_room) + \"개의 방을 가지고 있으며 가격은 \" + str(price) +\" 입니다.\" )"
   ]
  }
 ],
 "metadata": {
  "interpreter": {
   "hash": "b8b14522d60f737c26ea0f54762440cc126645685899dd8207cd41403f36f60b"
  },
  "kernelspec": {
   "display_name": "Python 3.8.8 64-bit ('base': conda)",
   "name": "python3"
  },
  "language_info": {
   "codemirror_mode": {
    "name": "ipython",
    "version": 3
   },
   "file_extension": ".py",
   "mimetype": "text/x-python",
   "name": "python",
   "nbconvert_exporter": "python",
   "pygments_lexer": "ipython3",
   "version": "3.8.8"
  },
  "orig_nbformat": 4
 },
 "nbformat": 4,
 "nbformat_minor": 2
}
