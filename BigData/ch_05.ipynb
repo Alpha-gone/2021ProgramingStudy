{
 "cells": [
  {
   "cell_type": "markdown",
   "metadata": {},
   "source": [
    "# 도전문제 5.1"
   ]
  },
  {
   "cell_type": "code",
   "execution_count": null,
   "metadata": {},
   "outputs": [],
   "source": [
    "for i in range(5):\n",
    "    print('#' * 20)"
   ]
  },
  {
   "cell_type": "markdown",
   "metadata": {},
   "source": [
    "# 도전문제 5.2"
   ]
  },
  {
   "cell_type": "code",
   "execution_count": null,
   "metadata": {},
   "outputs": [],
   "source": [
    "for t in range(10):\n",
    "    print(t)"
   ]
  },
  {
   "cell_type": "markdown",
   "metadata": {},
   "source": [
    "# 도전문제 5.3"
   ]
  },
  {
   "cell_type": "code",
   "execution_count": null,
   "metadata": {},
   "outputs": [],
   "source": [
    "bts = ['V', 'J-Hope', 'RM', 'Jungkook', 'Jin', 'Jimin', 'Suga']\n",
    "\n",
    "for i in bts:\n",
    "    print(i)"
   ]
  },
  {
   "cell_type": "markdown",
   "metadata": {},
   "source": [
    "# 도전문제 5.4"
   ]
  },
  {
   "cell_type": "code",
   "execution_count": null,
   "metadata": {},
   "outputs": [],
   "source": [
    "import turtle\n",
    "t = turtle.Turtle()\n",
    "t.shape('turtle')\n",
    "\n",
    "for i in range(6):\n",
    "    t.forward(100)\n",
    "    t.left(360/6)\n",
    "\n",
    "turtle.exitonclick()"
   ]
  },
  {
   "cell_type": "markdown",
   "metadata": {},
   "source": [
    "# 도전문제 5.5"
   ]
  },
  {
   "cell_type": "code",
   "execution_count": null,
   "metadata": {},
   "outputs": [],
   "source": [
    "import turtle\n",
    "t = turtle.Turtle()\n",
    "t.shape('turtle')\n",
    "\n",
    "s = int(turtle.textinput(\"\", '몇각형을 원하시나요? : '))\n",
    "l = int(turtle.textinput(\"\", '어느 길이를 원하시나요? : '))\n",
    "\n",
    "for i in range(s):\n",
    "    t.forward(l)\n",
    "    t.left(360 / s)"
   ]
  },
  {
   "cell_type": "markdown",
   "metadata": {},
   "source": [
    "# 도전문제 5.6"
   ]
  },
  {
   "cell_type": "code",
   "execution_count": null,
   "metadata": {},
   "outputs": [],
   "source": [
    "import random, turtle\n",
    "t = turtle.Turtle()\n",
    "t.shape('turtle') \n",
    "\n",
    "for i in range(30):\n",
    "    l = random.randint(1, 100)\n",
    "    t.forward(l)\n",
    "    angle = random.randint(-180, 180)\n",
    "    if  angle % 90 == 0:\n",
    "        t.right(angle)\n",
    "\n",
    "turtle.exitonclick()"
   ]
  },
  {
   "cell_type": "markdown",
   "metadata": {},
   "source": [
    "# 도전문제 5.7"
   ]
  },
  {
   "cell_type": "code",
   "execution_count": null,
   "metadata": {},
   "outputs": [],
   "source": [
    "i = 1\n",
    "\n",
    "while i <= 9:\n",
    "    j = 1\n",
    "    while j <= 9:\n",
    "        print(str(i) + \" * \" + str(j) + \" = \" + str(i * j))\n",
    "        j += 1\n",
    "    i += 1"
   ]
  },
  {
   "cell_type": "markdown",
   "metadata": {},
   "source": [
    "# 도전문제 5.8"
   ]
  },
  {
   "cell_type": "code",
   "execution_count": null,
   "metadata": {},
   "outputs": [],
   "source": [
    "import turtle\n",
    "t = turtle.Turtle()\n",
    "t.shape('turtle') \n",
    "\n",
    "while True:\n",
    "    t.forward(50)\n",
    "    t.right(144)"
   ]
  },
  {
   "cell_type": "code",
   "execution_count": null,
   "metadata": {},
   "outputs": [],
   "source": [
    "import turtle\n",
    "t = turtle.Turtle()\n",
    "t.shape('turtle') \n",
    "\n",
    "while True:\n",
    "    t.forward(150)\n",
    "    t.right(140)"
   ]
  },
  {
   "cell_type": "code",
   "execution_count": null,
   "metadata": {},
   "outputs": [],
   "source": [
    "import turtle\n",
    "t = turtle.Turtle()\n",
    "t.shape('turtle') \n",
    "\n",
    "while True:\n",
    "    t.forward(150)\n",
    "    t.right((360/5) * 2)\n",
    "    t.forward(150)\n",
    "    t.left(360/5)"
   ]
  },
  {
   "cell_type": "markdown",
   "metadata": {},
   "source": [
    "# 도전문제 5.9"
   ]
  },
  {
   "cell_type": "code",
   "execution_count": null,
   "metadata": {},
   "outputs": [],
   "source": [
    "import turtle\n",
    "t= turtle.Turtle()\n",
    "t.speed(3)\n",
    "t.width(3)\n",
    "\n",
    "length = 10\n",
    "\n",
    "while length < 500:\n",
    "    t.forward(length)\n",
    "    t.right(95)\n",
    "    length += 5\n",
    "\n",
    "turtle.exitonclick()"
   ]
  },
  {
   "cell_type": "markdown",
   "metadata": {},
   "source": [
    "# 도전문제 5.10"
   ]
  },
  {
   "cell_type": "code",
   "execution_count": null,
   "metadata": {},
   "outputs": [],
   "source": [
    "import random\n",
    "\n",
    "tries = 0\n",
    "guess = 0\n",
    "answer = rnadom.randint(1, 100)\n",
    "print('1부터 100까지의 숫자를 맞추시오')\n",
    "while guess != answer and tries < 10:\n",
    "    guess = int(input('숫자를 입력하시오: '))\n",
    "    tries += 1\n",
    "    if guess < answer:\n",
    "        print('낮음')\n",
    "    elif guess > answer:\n",
    "        print('높음')\n",
    "\n",
    "if tries == 10:\n",
    "    print('도전횟수 초과')\n",
    "else:\n",
    "    print('축하합니다. 총 시도횟수=', tries)"
   ]
  },
  {
   "cell_type": "markdown",
   "metadata": {},
   "source": [
    "# 도전문제 5.11"
   ]
  },
  {
   "cell_type": "code",
   "execution_count": null,
   "metadata": {},
   "outputs": [],
   "source": [
    "import random\n",
    "\n",
    "while True:\n",
    "    x = random.randint(1, 100)\n",
    "    y = random.randint(1, 100)\n",
    "    opr = random.randint(1,2)\n",
    "    formula = 0\n",
    "    \n",
    "    if opr == 1:\n",
    "        print(x, '+', y, '=', end = ' ')\n",
    "        answer = int(input(''))\n",
    "        formula = x + y\n",
    "    else:\n",
    "        print(x, '-', y, '=', end = ' ')\n",
    "        answer = int(input(''))\n",
    "        formula = x - y\n",
    "    \n",
    "    if answer == formula:\n",
    "        print('잘했어요!')\n",
    "    else:\n",
    "        print('정답은', formula, '입니다. 다음 번에는 잘 할 수 있죠?')\n",
    "\n",
    "    print() "
   ]
  },
  {
   "cell_type": "markdown",
   "metadata": {},
   "source": [
    "# 도전문제 5.12"
   ]
  },
  {
   "cell_type": "code",
   "execution_count": null,
   "metadata": {},
   "outputs": [],
   "source": [
    "for c in input('단어를 입력하세요 : '):\n",
    "    if c in 'aeiou':\n",
    "        break\n",
    "    print(c, end = '')"
   ]
  },
  {
   "cell_type": "markdown",
   "metadata": {},
   "source": [
    "# LAB 5-1"
   ]
  },
  {
   "cell_type": "code",
   "execution_count": null,
   "metadata": {},
   "outputs": [],
   "source": [
    "import turtle\n",
    "t = turtle.Turtle()\n",
    "\n",
    "for  i in range(6):\n",
    "    t.circle(100)\n",
    "    t.left(60)\n",
    "\n",
    "turtle.exitonclick()"
   ]
  },
  {
   "cell_type": "markdown",
   "metadata": {},
   "source": [
    "# LAB 5-2"
   ]
  },
  {
   "cell_type": "code",
   "execution_count": null,
   "metadata": {},
   "outputs": [],
   "source": [
    "import turtle\n",
    "t = turtle.Turtle()\n",
    "t.shape('turtle')\n",
    "\n",
    "for i in range(3):\n",
    "    t.forward(100)\n",
    "    t.left(360/3)\n",
    "\n",
    "t.penup()\n",
    "t.goto(200, 0)\n",
    "t.pendown()\n",
    "\n",
    "for i in range(4):\n",
    "    t.forward(100)\n",
    "    t.left(360/4)\n",
    "\n",
    "turtle.exitonclick()"
   ]
  },
  {
   "cell_type": "markdown",
   "metadata": {},
   "source": [
    "# LAB 5-3"
   ]
  },
  {
   "cell_type": "code",
   "execution_count": null,
   "metadata": {},
   "outputs": [],
   "source": [
    "import turtle\n",
    "t = turtle.Turtle()\n",
    "t.shape('turtle')\n",
    "\n",
    "angle = int(turtle.textinput('','몇 각형을 원하시나요?:'))\n",
    "\n",
    "for  i in range(angle):\n",
    "    t.circle(100)\n",
    "    t.left(360 / angle)\n",
    "\n",
    "turtle.exitonclick()"
   ]
  },
  {
   "cell_type": "markdown",
   "metadata": {},
   "source": [
    "# LAB 5-4"
   ]
  },
  {
   "cell_type": "code",
   "execution_count": null,
   "metadata": {},
   "outputs": [],
   "source": [
    "import random, turtle\n",
    "t = turtle.Turtle()\n",
    "t.shape('turtle') \n",
    "\n",
    "for i in range(30):\n",
    "    l = random.randint(1, 100)\n",
    "    t.forward(l)\n",
    "    angle = random.randint(-180, 180)\n",
    "    t.right(angle)\n",
    "\n",
    "turtle.exitonclick()"
   ]
  },
  {
   "cell_type": "markdown",
   "metadata": {},
   "source": [
    "# LAB 5-5"
   ]
  },
  {
   "cell_type": "code",
   "execution_count": null,
   "metadata": {},
   "outputs": [],
   "source": [
    "num = int(input('정수를 입력하시오: '))\n",
    "fact = 1\n",
    "\n",
    "for i in range(1, num + 1):\n",
    "    fact *= i\n",
    "\n",
    "print(num, '!은', fact, '이다')"
   ]
  },
  {
   "cell_type": "markdown",
   "metadata": {},
   "source": [
    "# LAB 5-6"
   ]
  },
  {
   "cell_type": "code",
   "execution_count": null,
   "metadata": {},
   "outputs": [],
   "source": [
    "pw = ''\n",
    "while pw != 'pythonisfun':\n",
    "    pw = input('암호를 입력하시오: ')\n",
    "print('** 로그인 성공 **') "
   ]
  },
  {
   "cell_type": "markdown",
   "metadata": {},
   "source": [
    "# LAB 5-7"
   ]
  },
  {
   "cell_type": "code",
   "execution_count": null,
   "metadata": {},
   "outputs": [],
   "source": [
    "dan = int(input('원하는 단 입력: '))\n",
    "i = 1\n",
    "\n",
    "while i < 10:\n",
    "    print('{0} * {1} = {2}'.format(dan, i , dan * i))\n",
    "    i += 1"
   ]
  },
  {
   "cell_type": "markdown",
   "metadata": {},
   "source": [
    "# LAB 5-8"
   ]
  },
  {
   "cell_type": "code",
   "execution_count": null,
   "metadata": {},
   "outputs": [],
   "source": [
    "import turtle\n",
    "t = turtle.Turtle()\n",
    "t.shape('turtle')\n",
    "\n",
    "i = 0;\n",
    "\n",
    "while i < 5:\n",
    "    t.forward(100)\n",
    "    t.right(144)\n",
    "    i += 1\n",
    "\n",
    "turtle.exitonclick()"
   ]
  },
  {
   "cell_type": "markdown",
   "metadata": {},
   "source": [
    "# LAB 5-9"
   ]
  },
  {
   "cell_type": "code",
   "execution_count": null,
   "metadata": {},
   "outputs": [],
   "source": [
    "import turtle\n",
    "t= turtle.Turtle()\n",
    "t.speed(3)\n",
    "t.width(3)\n",
    "\n",
    "length = 10\n",
    "\n",
    "while length < 500:\n",
    "    t.forward(length)\n",
    "    t.right(89)\n",
    "    length += 5\n",
    "\n",
    "turtle.exitonclick()"
   ]
  },
  {
   "cell_type": "markdown",
   "metadata": {},
   "source": [
    "# LAB 5-10"
   ]
  },
  {
   "cell_type": "code",
   "execution_count": null,
   "metadata": {},
   "outputs": [],
   "source": [
    "sum = 0\n",
    "answer = 'yes'\n",
    "\n",
    "while answer == 'yes':\n",
    "    sum += int(input('숫자를 입력하시오: '))\n",
    "    answer = input('계속?(yes/no): ')\n",
    "\n",
    "print('합계는 : ', sum)"
   ]
  },
  {
   "cell_type": "markdown",
   "metadata": {},
   "source": [
    "# LAB 5-11"
   ]
  },
  {
   "cell_type": "code",
   "execution_count": null,
   "metadata": {},
   "outputs": [],
   "source": [
    "import random\n",
    "\n",
    "tries = 0\n",
    "guess = 0\n",
    "answer = rnadom.randint(1, 100)\n",
    "print('1부터 100까지의 숫자를 맞추시오')\n",
    "while guess != answer:\n",
    "    guess = int(input('숫자를 입력하시오: '))\n",
    "    tries += 1\n",
    "    if guess < answer:\n",
    "        print('낮음')\n",
    "    elif guess > answer:\n",
    "        print('높음')\n",
    "\n",
    "print('축하합니다. 총 시도횟수=', tries)"
   ]
  },
  {
   "cell_type": "markdown",
   "metadata": {},
   "source": [
    "# LAB 5-12"
   ]
  },
  {
   "cell_type": "code",
   "execution_count": null,
   "metadata": {},
   "outputs": [],
   "source": [
    "import random\n",
    "\n",
    "while True:\n",
    "    x = random.randint(1, 100)\n",
    "    y = random.randint(1, 100)\n",
    "\n",
    "    print(x, '+', y, '=', end = ' ')\n",
    "    answer = int(input(''))\n",
    "    \n",
    "    if answer == x + y:\n",
    "        print('잘했어요!')\n",
    "    else:\n",
    "        print('정답은', x + y, '입니다. 다음 번에는 잘 할 수 있죠?')"
   ]
  },
  {
   "cell_type": "markdown",
   "metadata": {},
   "source": [
    "# LAB 5-13"
   ]
  },
  {
   "cell_type": "code",
   "execution_count": null,
   "metadata": {},
   "outputs": [],
   "source": [
    "bread = ['호밀빵', '위트','화이트']\n",
    "meats = ['미트볼', '소시지', '닭가슴살']\n",
    "vegis = ['양상추', '토마토', '오이']\n",
    "sauces = ['마요네즈', '허니 머스타드','칠리']\n",
    "\n",
    "for b in bread:\n",
    "    for m in meats:\n",
    "        for v in vegis:\n",
    "            for s in sauces:\n",
    "                print(b + \" +\" + m + \" +\" + v + \" +\" + s )"
   ]
  }
 ],
 "metadata": {
  "interpreter": {
   "hash": "b8b14522d60f737c26ea0f54762440cc126645685899dd8207cd41403f36f60b"
  },
  "kernelspec": {
   "display_name": "Python 3.8.8 64-bit ('base': conda)",
   "name": "python3"
  },
  "language_info": {
   "codemirror_mode": {
    "name": "ipython",
    "version": 3
   },
   "file_extension": ".py",
   "mimetype": "text/x-python",
   "name": "python",
   "nbconvert_exporter": "python",
   "pygments_lexer": "ipython3",
   "version": "3.8.8"
  },
  "orig_nbformat": 4
 },
 "nbformat": 4,
 "nbformat_minor": 2
}
